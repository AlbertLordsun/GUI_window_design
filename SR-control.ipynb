{
 "cells": [
  {
   "cell_type": "markdown",
   "metadata": {},
   "source": [
    "# SoftRobot-Control"
   ]
  },
  {
   "cell_type": "markdown",
   "metadata": {},
   "source": [
    "## Programming methods for Arduino via python"
   ]
  },
  {
   "cell_type": "markdown",
   "metadata": {},
   "source": [
    "### 1) Prigramming via firmata protocol"
   ]
  },
  {
   "cell_type": "code",
   "execution_count": null,
   "metadata": {},
   "outputs": [],
   "source": [
    "# before using lib pyfirmata via python, the standardfirmata.ino should be uploaded to Arduino board to ensure the protocol.\n",
    "\n",
    "import pyfirmata                     # alternative way for the serial lib\n",
    "import numpy as np\n",
    "import time\n",
    "\n",
    "# we decide to choose ArduinoMega due to more PWM pins\n",
    "port = 'COM5'                        # select the port\n",
    "board = pyfirmata.ArduinoMega(port)  # define the board\n",
    "sleep(2)                             # wait for the analog information              \n",
    "\n",
    "## configure the serial port for vacuum pressure\n",
    "P1 = board.get_pin('a:1:i')\n",
    "P2 = board.get_pin('a:2:i')\n",
    "P3 = board.get_pin('a:3:i')\n",
    "P4 = board.get_pin('a:4:i')\n",
    "P5 = board.get_pin('a:5:i')\n",
    "\n",
    "## start the iterator process, to avoid overflow from the serial port\n",
    "it = pyfirmata.util.Iterator(board)\n",
    "it.start()\n",
    "\n",
    "try:\n",
    "    while True:\n",
    "        ## Data read and calibrate\n",
    "        Pv1 = P1.read()\n",
    "#         PV1 = Pv1*5*23-115   # output via pyfirmata is between 0 and 1\n",
    "        Pv2 = P2.read()\n",
    "#         PV2 = Pv2*5*23-115\n",
    "        Pv3 = P3.read()\n",
    "#         PV3 = Pv3*5*23-115\n",
    "        Pv4 = P4.read()\n",
    "#         PV4 = Pv4*5*23-115\n",
    "        Pv5 = P5.read()\n",
    "#         PV5 = Pv5*5*23-115\n",
    "        print('P1=',Pv1,'P2=',Pv2,'P3=',Pv3,'P4=',Pv4,'P5=',Pv5)\n",
    "except KeyboardInterrupt:    # Capture expections, like: Crtl+C \n",
    "    board.exit()"
   ]
  },
  {
   "cell_type": "markdown",
   "metadata": {},
   "source": [
    "### 2) Programming via pyserial"
   ]
  },
  {
   "cell_type": "code",
   "execution_count": null,
   "metadata": {},
   "outputs": [],
   "source": [
    "import serial\n",
    "port = serial.Serial('COM4', 9600, timeout=1)\n",
    "\n",
    "## serial port information should be programmed in Arduino IDE for pressure information\n",
    "while True:\n",
    "    print port.readline()\n",
    "\n",
    "port.close()"
   ]
  },
  {
   "cell_type": "markdown",
   "metadata": {},
   "source": [
    "### 3) Programming via Firmata and GUI"
   ]
  },
  {
   "cell_type": "code",
   "execution_count": null,
   "metadata": {},
   "outputs": [],
   "source": [
    "## manually configure the different conditions for the programs, meanwhile record the responses\n",
    "\n",
    "import pyfirmata\n",
    "from tkinter import *\n",
    "import matplotlib.pyplot as plt\n",
    "\n",
    "port = 'COM5'    # select the port\n",
    "board = pyfirmata.ArduinoMega(port)  # define the board\n",
    "sleep(2)         # wait for the buffer of analog input\n",
    "\n",
    "# Initialize main windows with title and size \n",
    "PV = tkinter.Tk() \n",
    "PV.title(\"Vacuum Pressure\") \n",
    "PV.minsize(500,90)\n",
    "# Label widget \n",
    "PVlabel = tkinter.Label(top, text = \"\") \n",
    "PVlabel.pack()\n",
    "# Start and open the window \n",
    "top.mainloop()"
   ]
  },
  {
   "cell_type": "markdown",
   "metadata": {},
   "source": [
    "### 4） Programming via firmata and save data"
   ]
  },
  {
   "cell_type": "code",
   "execution_count": null,
   "metadata": {},
   "outputs": [],
   "source": [
    "# use firmata to control the board and the sensor data can be saved in CSV file\n",
    "## This program is not for real-time data visualization\n",
    "\n",
    "import pyfirmata\n",
    "from time import sleep\n",
    "import csv\n",
    "\n",
    "port = 'COM5'\n",
    "board = pyfirmata.ArduinoMega(port)\n",
    "it = pyfirmata.util.Iterator(board)\n",
    "it.start()\n",
    "\n",
    "P1 = board.get_pin('a:1:i')\n",
    "\n",
    "with open('PressureData.csv','w+') as f:\n",
    "    w = csv.writer(f)\n",
    "    w.writerow([\"Number\",\"Value\"])\n",
    "    i = 0\n",
    "    Pv1 = P1.read()\n",
    "    PV1 = 115*Pv1-115    # Data calibration for pressure sensor\n",
    "    while i < 10:\n",
    "        sleep() # Sleep time is in second scale\n",
    "        if Pv1 is not None:\n",
    "            i += 1\n",
    "            row = [i,PV1]\n",
    "            w.writerow(row)\n",
    "    print(\"CSV file is done!\")\n",
    "\n",
    "board.exit()"
   ]
  },
  {
   "cell_type": "markdown",
   "metadata": {},
   "source": [
    "### 5) Programming via matplotlib for the analog output"
   ]
  },
  {
   "cell_type": "code",
   "execution_count": null,
   "metadata": {},
   "outputs": [],
   "source": [
    "# use firmata to control the board and the sensor data can be saved in CSV file\n",
    "# Data visualization: the sensor/CSV data can be plotted in real-time\n",
    "\n",
    "import pyfirmata\n",
    "from time import sleep\n",
    "import numpy as np\n",
    "import matplotlib.pyplot as plt\n",
    "import sys, csv\n",
    "\n",
    "# Configure the port and board with firmata protocol\n",
    "port = 'COM4'\n",
    "board = pyfirmata.ArduinoMega(port)\n",
    "# Use iterator thread to avoid buffer overflow\n",
    "it = pyfirmata.util.Iterator(board)\n",
    "it.start()\n",
    "\n",
    "# configure the pinMode for different components\n",
    "P1 = board.get_pin('a:1:i')\n",
    "\n",
    "# Initialize the interactive mode\n",
    "plt.ion()\n",
    "\n",
    "board.exit()"
   ]
  },
  {
   "cell_type": "markdown",
   "metadata": {},
   "source": [
    "### 6) Recording with the camera"
   ]
  },
  {
   "cell_type": "code",
   "execution_count": null,
   "metadata": {},
   "outputs": [],
   "source": [
    "import cv2\n",
    "import tkinter\n",
    "import PIL.Image, PIL.ImageTk\n",
    "import time\n",
    "\n",
    "class Application:\n",
    "    def __init__(self, window, window_title, video_source):\n",
    "        self.window = window\n",
    "        self.window.title(window_title)\n",
    "        self.SRvideo = cv2.VideoCapture(video_source)\n",
    "        if not self.SRvideo.isOpened():\n",
    "            raise ValueError(\"Unable to open video source\", video_source)\n",
    "        # the size of HOZAN USB camera is 640*480\n",
    "        self.width = self.SRvideo.get(3)   # cv2.CAP_PROP_FRAME_WIDTH = 3\n",
    "        self.height = self.SRvideo.get(4) # cv2.CAP_PROP_FRAME_HEIGHT = 4\n",
    "        \n",
    "        # Canvas configuration: inlucding video frame, button and pressure sensor curves\n",
    "        self.canvas = tkinter.Canvas(window, width = 2*self.width, height = self.height)\n",
    "        self.canvas.pack()\n",
    "        self.btn_snapshot=tkinter.Button(window, text=\"Snapshot\", width=50, command=self.snapshot)\n",
    "        self.btn_snapshot.pack(anchor=tkinter.CENTER, expand=True)\n",
    "#         self.\n",
    "        \n",
    "#         SRwri = cv2.VideoWriter('SRcrawling.avi',cv2.VideoWriter_fourcc('M','J','P','G'), 10, (int(self.width),int(self.height)))\n",
    "        # Updata the frame every 10 milliseconds\n",
    "        self.delay = 10\n",
    "        self.update()\n",
    "        self.window.mainloop()\n",
    "        \n",
    "    # function for snapshot \n",
    "    def snapshot(self):\n",
    "        ret, frame = self.SRvideo.read()\n",
    "        frame = cv2.cvtColor(frame, cv2.COLOR_BGR2RGB)\n",
    "        if ret:\n",
    "            cv2.imwrite(\"SRcrawling-\" + time.strftime(\"%Y-%m-%d-%H-%M-%S\") + \".jpg\", cv2.cvtColor(frame, cv2.COLOR_RGB2BGR))\n",
    "    \n",
    "    # function for the frame update\n",
    "    def update(self):\n",
    "        ret, frame = self.SRvideo.read()\n",
    "        frame = cv2.cvtColor(frame, cv2.COLOR_BGR2RGB)\n",
    "        if ret:\n",
    "            self.photo = PIL.ImageTk.PhotoImage(image = PIL.Image.fromarray(frame))\n",
    "            self.canvas.create_image(0, 0, image = self.photo, anchor = tkinter.NW)\n",
    "        self.window.after(self.delay, self.update)\n",
    "            \n",
    "# create a window and pass it to the Application object\n",
    "Application(tkinter.Tk(), \"SRcrawling\", 1)\n",
    "# SRwri = cv2.VideoWriter('SRcrawling.avi',cv2.VideoWriter_fourcc('M','J','P','G'), 10, (Application.width, Application.height))"
   ]
  },
  {
   "cell_type": "code",
   "execution_count": null,
   "metadata": {},
   "outputs": [],
   "source": []
  },
  {
   "cell_type": "code",
   "execution_count": null,
   "metadata": {},
   "outputs": [],
   "source": []
  }
 ],
 "metadata": {
  "kernelspec": {
   "display_name": "Python 3",
   "language": "python",
   "name": "python3"
  },
  "language_info": {
   "codemirror_mode": {
    "name": "ipython",
    "version": 3
   },
   "file_extension": ".py",
   "mimetype": "text/x-python",
   "name": "python",
   "nbconvert_exporter": "python",
   "pygments_lexer": "ipython3",
   "version": "3.8.8"
  }
 },
 "nbformat": 4,
 "nbformat_minor": 4
}
